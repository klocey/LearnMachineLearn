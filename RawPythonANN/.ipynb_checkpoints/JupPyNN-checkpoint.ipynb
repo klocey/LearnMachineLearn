{
 "cells": [
  {
   "cell_type": "code",
   "execution_count": null,
   "metadata": {},
   "outputs": [],
   "source": [
    "import numpy as np\n",
    "# Below obtained on Jan 17 2020 from https://www.youtube.com/watch?v=gwitf7ABtK8"
   ]
  },
  {
   "cell_type": "code",
   "execution_count": null,
   "metadata": {},
   "outputs": [],
   "source": [
    "def sigmoid(x):\n",
    "    return 1 / (1 + np.exp(-x))\n",
    "\n",
    "def NN(m1, m2, w1, w2, b):\n",
    "    z = m1 * w1 + m2 * w2 + b\n",
    "    return sigmoid(z)"
   ]
  },
  {
   "cell_type": "code",
   "execution_count": null,
   "metadata": {},
   "outputs": [],
   "source": [
    "w1 = np.random.rand()\n",
    "w2 = np.random.rand()\n",
    "b = np.random.rand()"
   ]
  },
  {
   "cell_type": "code",
   "execution_count": null,
   "metadata": {},
   "outputs": [],
   "source": [
    "NN(2, 1, w1, w2, b)"
   ]
  },
  {
   "cell_type": "code",
   "execution_count": null,
   "metadata": {},
   "outputs": [],
   "source": [
    "# Below obtained on Jan 17 2020 from https://www.youtube.com/watch?v=c6NBkkKNZXw"
   ]
  },
  {
   "cell_type": "code",
   "execution_count": null,
   "metadata": {},
   "outputs": [],
   "source": [
    "def cost(b):\n",
    "    return 1/(1+np.exp(-b))\n",
    "    \n",
    "def num_slope(b, h=0.0001):\n",
    "    # An approximated slope\n",
    "    # benefit: can theoretically approximate any fxn\n",
    "    # with a small enough window\n",
    "    # detriment: this is only an approximation and requires\n",
    "    # window size consideration (i.e., |b - h|)\n",
    "    return (cost(b+h)-cost(b))/h\n",
    "\n",
    "def slope(b):\n",
    "    # The derived slope for a squared-cost function\n",
    "    # We actually take the derivative of the inner term\n",
    "    # as well and multiply by it. In this case, the\n",
    "    # derivative of the inner term is 1.\n",
    "    return 2 * (b - 4) \n"
   ]
  },
  {
   "cell_type": "code",
   "execution_count": 24,
   "metadata": {},
   "outputs": [
    {
     "data": {
      "text/plain": [
       "-2"
      ]
     },
     "execution_count": 24,
     "metadata": {},
     "output_type": "execute_result"
    }
   ],
   "source": [
    "slope(3)"
   ]
  },
  {
   "cell_type": "code",
   "execution_count": 29,
   "metadata": {},
   "outputs": [],
   "source": [
    "b = 8"
   ]
  },
  {
   "cell_type": "code",
   "execution_count": 69,
   "metadata": {},
   "outputs": [
    {
     "name": "stdout",
     "output_type": "stream",
     "text": [
      "4.000664613997893\n",
      "4.000531691198314\n"
     ]
    }
   ],
   "source": [
    "print(b)\n",
    "b = b - .1 * slope(b)\n",
    "print(b)"
   ]
  },
  {
   "cell_type": "code",
   "execution_count": null,
   "metadata": {},
   "outputs": [],
   "source": [
    "import numpy as np\n",
    "from math import floor\n",
    "\n",
    "dataB1 = [2,1, 0]\n",
    "dataB2 = [3,1, 0]\n",
    "dataB3 = [2, 0.5, 0]\n",
    "dataB4 = [1, 1, 0]\n",
    "\n",
    "dataR1 = [3, 1.5, 1]\n",
    "dataR2 = [3.5, 0.5, 1]\n",
    "dataR3 = [4, 1.5, 1]\n",
    "dataR4 = [5.5, 1, 1]\n",
    "\n",
    "dataU1 = [4.5, 1, \"U\"]\n",
    "\n",
    "all_points = [dataB1, dataB2, dataB3, dataB4,\n",
    "             dataR1, dataR2, dataR3, dataR4]\n",
    "\n",
    "def sigmoid(x):\n",
    "    return 1/(1 + np.exp(-x))\n",
    "\n",
    "def train():\n",
    "    w1 = np.random.random() * 0.2 - 0.1\n",
    "    w2 = np.random.random() * 0.2 - 0.1\n",
    "    b = np.random.random() * 0.2 - 0.1\n",
    "    \n",
    "    learning_rate = 0.2\n",
    "    \n",
    "    for i in range(10000):\n",
    "        # choose point at random\n",
    "        random_idx = np.random.randint(len(all_points))\n",
    "        point = all_points[random_idx]\n",
    "        # target stored in 3rd coordinate of point\n",
    "        target = point[2]\n",
    "        \n",
    "        # feed forward\n",
    "        z = w1 * point[0] + w2 * point[1] + b\n",
    "        pred = sigmoid(z)\n",
    "        \n",
    "        # compare the model prediction with the target\n",
    "        cost = (pred - target)**2\n",
    "        \n",
    "        # find the derivative of the cost wrt each parameter (w1, w2, b)\n",
    "        # bring the derivative through the square function\n",
    "        dcost_dpred = 2 * (pred - target)\n",
    "        \n",
    "        # bring the derivative through the sigmoid fxn\n",
    "        dpred_dz = sigmoid(z) * (1 - sigmoid(z))\n",
    "        \n",
    "        # chain rule\n",
    "        dz_dw1 = point[0] \n",
    "        dz_dw2 = point[1]\n",
    "        dz_db = 1\n",
    "        \n",
    "        # get partial derivatives using the chain rule\n",
    "        # bring the cost changes through each function,\n",
    "        # beginning with the square and then the sigmoid\n",
    "        # and then whatever is multiplying our parameter of interest\n",
    "        \n",
    "        dcost_dw1 = dcost_dpred * dpred_dz * dz_dw1 \n",
    "        dcost_dw2 = dcost_dpred * dpred_dz * dz_dw2 \n",
    "        dcost_db = dcost_dpred * dpred_dz * dz_db\n",
    "        \n",
    "        # now we update our parameters!\n",
    "        w1 -= learning_rate * dcost_dw1\n",
    "        w2 -= learning_rate * dcost_dw2\n",
    "        b -= learning_rate * dcost_db\n",
    "        \n",
    "        print(w1, w2, b)\n",
    "    return w1, w2, b\n",
    "    \n",
    "    \n",
    "params = train()\n",
    "        \n",
    "        \n",
    "        \n",
    "        "
   ]
  },
  {
   "cell_type": "code",
   "execution_count": null,
   "metadata": {},
   "outputs": [],
   "source": []
  }
 ],
 "metadata": {
  "kernelspec": {
   "display_name": "Python 3",
   "language": "python",
   "name": "python3"
  },
  "language_info": {
   "codemirror_mode": {
    "name": "ipython",
    "version": 3
   },
   "file_extension": ".py",
   "mimetype": "text/x-python",
   "name": "python",
   "nbconvert_exporter": "python",
   "pygments_lexer": "ipython3",
   "version": "3.7.4"
  }
 },
 "nbformat": 4,
 "nbformat_minor": 2
}
